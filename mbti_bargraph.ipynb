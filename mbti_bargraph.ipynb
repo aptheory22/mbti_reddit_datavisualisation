{
  "nbformat": 4,
  "nbformat_minor": 0,
  "metadata": {
    "colab": {
      "provenance": []
    },
    "kernelspec": {
      "name": "python3",
      "display_name": "Python 3"
    },
    "language_info": {
      "name": "python"
    }
  },
  "cells": [
    {
      "cell_type": "markdown",
      "source": [
        "# 1. Data importing"
      ],
      "metadata": {
        "id": "SMVnAuCVfYWW"
      }
    },
    {
      "cell_type": "markdown",
      "source": [
        "### 1.1 Using Kaggle API"
      ],
      "metadata": {
        "id": "rJ6IXcN6fP2x"
      }
    },
    {
      "cell_type": "markdown",
      "source": [
        "This step works with Google Colab"
      ],
      "metadata": {
        "id": "iMqJQyUffp2k"
      }
    },
    {
      "cell_type": "code",
      "execution_count": null,
      "metadata": {
        "id": "VH69wjQrdrc1"
      },
      "outputs": [],
      "source": [
        "import os\n",
        "os.environ['KAGGLE_CONFIG_DIR'] = '/content'"
      ]
    },
    {
      "cell_type": "code",
      "source": [
        "# find your dataset and copy the API command from Kaggle and paste it here like this\n",
        "!kaggle datasets download -d michaelkitchener/mbti-type-and-digital-footprints-for-reddit-users"
      ],
      "metadata": {
        "id": "_FfzoBYBe6Oy"
      },
      "execution_count": null,
      "outputs": []
    },
    {
      "cell_type": "code",
      "source": [
        "# the json contain API key, which should be sealed and protected by this line of code\n",
        "!chmod 600 /content/kaggle.json "
      ],
      "metadata": {
        "id": "DRZr8QpKfKzz"
      },
      "execution_count": null,
      "outputs": []
    },
    {
      "cell_type": "code",
      "source": [
        "# unzip the downloaded dataset\n",
        "!unzip /content/mbti-type-and-digital-footprints-for-reddit-users.zip"
      ],
      "metadata": {
        "colab": {
          "base_uri": "https://localhost:8080/"
        },
        "id": "9k1ySMG9ggtd",
        "outputId": "43709cc2-c7b3-4df5-d0a2-93a3f9d27375"
      },
      "execution_count": null,
      "outputs": [
        {
          "output_type": "stream",
          "name": "stdout",
          "text": [
            "Archive:  /content/mbti-type-and-digital-footprints-for-reddit-users.zip\n",
            "  inflating: reddit_psychometric_data.csv  \n"
          ]
        }
      ]
    },
    {
      "cell_type": "markdown",
      "source": [
        "### 1.2 Access the data"
      ],
      "metadata": {
        "id": "ZFU4-R04gwJv"
      }
    },
    {
      "cell_type": "code",
      "source": [
        "import pandas as pd"
      ],
      "metadata": {
        "id": "oFTioLNEhAUC"
      },
      "execution_count": null,
      "outputs": []
    },
    {
      "cell_type": "code",
      "source": [
        "# read the extracted csv \n",
        "mbti_df = pd.read_csv('/content/reddit_psychometric_data.csv')"
      ],
      "metadata": {
        "id": "NGfZtzd1hEv7"
      },
      "execution_count": null,
      "outputs": []
    },
    {
      "cell_type": "code",
      "source": [
        "print(f\"This dataset has {mbti_df.shape[0]:,} entries \\\n",
        "and {mbti_df.shape[1]:,} rows\")"
      ],
      "metadata": {
        "colab": {
          "base_uri": "https://localhost:8080/"
        },
        "id": "FZUgzfG6hTGi",
        "outputId": "beecca8e-e5fb-4138-bd09-8ed23ff99f62"
      },
      "execution_count": null,
      "outputs": [
        {
          "output_type": "stream",
          "name": "stdout",
          "text": [
            "This dataset has 3,586 entries and 27,091 rows\n"
          ]
        }
      ]
    },
    {
      "cell_type": "code",
      "source": [
        "# show the information about this dataframe\n",
        "mbti_df.info()"
      ],
      "metadata": {
        "colab": {
          "base_uri": "https://localhost:8080/"
        },
        "id": "G9k82NfdhVL-",
        "outputId": "0014674b-dc4e-4ddb-c6b4-d36d8f8a088b"
      },
      "execution_count": null,
      "outputs": [
        {
          "output_type": "stream",
          "name": "stdout",
          "text": [
            "<class 'pandas.core.frame.DataFrame'>\n",
            "RangeIndex: 3586 entries, 0 to 3585\n",
            "Columns: 27091 entries, mbti_type to comment_PIED\n",
            "dtypes: int64(27090), object(1)\n",
            "memory usage: 741.2+ MB\n"
          ]
        }
      ]
    },
    {
      "cell_type": "markdown",
      "source": [
        "# 2. Data Cleaning"
      ],
      "metadata": {
        "id": "VCo7n1EEh1LQ"
      }
    },
    {
      "cell_type": "markdown",
      "source": [
        "Since it has 27,091 rows, which is 27,090 subreddits in the dataset. I will work with Top 5 subreddits"
      ],
      "metadata": {
        "id": "nC0vxwWYiPhA"
      }
    },
    {
      "cell_type": "markdown",
      "source": [
        "For example, for the subreddit/memes, you will find:\n",
        "1. post_memes\n",
        "2. comment_memes\n",
        "in the 27,091 rows\n",
        "\n",
        "I will work with Top 5 subreddits"
      ],
      "metadata": {
        "id": "GG_TbzAOiqdN"
      }
    },
    {
      "cell_type": "markdown",
      "source": [
        "## 2.1 Choosing top subreddits "
      ],
      "metadata": {
        "id": "Wufzx7K1vpLW"
      }
    },
    {
      "cell_type": "code",
      "source": [
        "post_df = mbti_df.filter(regex='^post_|^mbti_type') \n",
        "# filter the df with the column that starts with post_ and mbti_type"
      ],
      "metadata": {
        "id": "sTcSpNCgjZ4n"
      },
      "execution_count": null,
      "outputs": []
    },
    {
      "cell_type": "code",
      "source": [
        "# create new dataframe to count with for-loop\n",
        "datas = [] \n",
        "for col in post_df.columns.values.tolist():\n",
        "    if col == 'mbti_type': # mbti_type does not count\n",
        "        pass\n",
        "    else:\n",
        "        data = [str(col), mbti_df[col].sum()] \n",
        "        datas.append(data)"
      ],
      "metadata": {
        "id": "ZKjfdlbojR6F"
      },
      "execution_count": null,
      "outputs": []
    },
    {
      "cell_type": "code",
      "source": [
        "# take the list of items to df\n",
        "sorted_post_df = pd.DataFrame(datas, columns=['Name', 'Count'])"
      ],
      "metadata": {
        "id": "_w1lRTMLjv3Y"
      },
      "execution_count": null,
      "outputs": []
    },
    {
      "cell_type": "code",
      "source": [
        "# ascendingly sort value by count and show only 20 entries\n",
        "sorted_post_df.sort_values('Count', ascending=False).head(20)"
      ],
      "metadata": {
        "colab": {
          "base_uri": "https://localhost:8080/",
          "height": 676
        },
        "id": "VfOIRlFCiOxe",
        "outputId": "64d0beb0-9474-4cf2-fea1-6ca91c92cfea"
      },
      "execution_count": null,
      "outputs": [
        {
          "output_type": "execute_result",
          "data": {
            "text/plain": [
              "                           Name  Count\n",
              "32                    post_mbti   5260\n",
              "29               post_AskReddit   2657\n",
              "103                  post_memes   2220\n",
              "55                    post_infp   2022\n",
              "119                   post_INTP   1882\n",
              "132              post_teenagers   1368\n",
              "50               post_mbtimemes   1367\n",
              "528              post_dankmemes   1290\n",
              "51                    post_ENFP    935\n",
              "503                   post_intj    910\n",
              "205                   post_entp    883\n",
              "169             post_MbtiTypeMe    747\n",
              "37          post_Showerthoughts    744\n",
              "54                    post_infj    683\n",
              "1         post_unpopularopinion    613\n",
              "525   post_PewdiepieSubmissions    581\n",
              "52               post_Enneagram    536\n",
              "258               post_Animemes    529\n",
              "360  post_PoliticalCompassMemes    476\n",
              "238                    post_aww    431"
            ],
            "text/html": [
              "\n",
              "  <div id=\"df-2dd3cb56-ea63-4fb8-a237-d7a3447d4b5f\">\n",
              "    <div class=\"colab-df-container\">\n",
              "      <div>\n",
              "<style scoped>\n",
              "    .dataframe tbody tr th:only-of-type {\n",
              "        vertical-align: middle;\n",
              "    }\n",
              "\n",
              "    .dataframe tbody tr th {\n",
              "        vertical-align: top;\n",
              "    }\n",
              "\n",
              "    .dataframe thead th {\n",
              "        text-align: right;\n",
              "    }\n",
              "</style>\n",
              "<table border=\"1\" class=\"dataframe\">\n",
              "  <thead>\n",
              "    <tr style=\"text-align: right;\">\n",
              "      <th></th>\n",
              "      <th>Name</th>\n",
              "      <th>Count</th>\n",
              "    </tr>\n",
              "  </thead>\n",
              "  <tbody>\n",
              "    <tr>\n",
              "      <th>32</th>\n",
              "      <td>post_mbti</td>\n",
              "      <td>5260</td>\n",
              "    </tr>\n",
              "    <tr>\n",
              "      <th>29</th>\n",
              "      <td>post_AskReddit</td>\n",
              "      <td>2657</td>\n",
              "    </tr>\n",
              "    <tr>\n",
              "      <th>103</th>\n",
              "      <td>post_memes</td>\n",
              "      <td>2220</td>\n",
              "    </tr>\n",
              "    <tr>\n",
              "      <th>55</th>\n",
              "      <td>post_infp</td>\n",
              "      <td>2022</td>\n",
              "    </tr>\n",
              "    <tr>\n",
              "      <th>119</th>\n",
              "      <td>post_INTP</td>\n",
              "      <td>1882</td>\n",
              "    </tr>\n",
              "    <tr>\n",
              "      <th>132</th>\n",
              "      <td>post_teenagers</td>\n",
              "      <td>1368</td>\n",
              "    </tr>\n",
              "    <tr>\n",
              "      <th>50</th>\n",
              "      <td>post_mbtimemes</td>\n",
              "      <td>1367</td>\n",
              "    </tr>\n",
              "    <tr>\n",
              "      <th>528</th>\n",
              "      <td>post_dankmemes</td>\n",
              "      <td>1290</td>\n",
              "    </tr>\n",
              "    <tr>\n",
              "      <th>51</th>\n",
              "      <td>post_ENFP</td>\n",
              "      <td>935</td>\n",
              "    </tr>\n",
              "    <tr>\n",
              "      <th>503</th>\n",
              "      <td>post_intj</td>\n",
              "      <td>910</td>\n",
              "    </tr>\n",
              "    <tr>\n",
              "      <th>205</th>\n",
              "      <td>post_entp</td>\n",
              "      <td>883</td>\n",
              "    </tr>\n",
              "    <tr>\n",
              "      <th>169</th>\n",
              "      <td>post_MbtiTypeMe</td>\n",
              "      <td>747</td>\n",
              "    </tr>\n",
              "    <tr>\n",
              "      <th>37</th>\n",
              "      <td>post_Showerthoughts</td>\n",
              "      <td>744</td>\n",
              "    </tr>\n",
              "    <tr>\n",
              "      <th>54</th>\n",
              "      <td>post_infj</td>\n",
              "      <td>683</td>\n",
              "    </tr>\n",
              "    <tr>\n",
              "      <th>1</th>\n",
              "      <td>post_unpopularopinion</td>\n",
              "      <td>613</td>\n",
              "    </tr>\n",
              "    <tr>\n",
              "      <th>525</th>\n",
              "      <td>post_PewdiepieSubmissions</td>\n",
              "      <td>581</td>\n",
              "    </tr>\n",
              "    <tr>\n",
              "      <th>52</th>\n",
              "      <td>post_Enneagram</td>\n",
              "      <td>536</td>\n",
              "    </tr>\n",
              "    <tr>\n",
              "      <th>258</th>\n",
              "      <td>post_Animemes</td>\n",
              "      <td>529</td>\n",
              "    </tr>\n",
              "    <tr>\n",
              "      <th>360</th>\n",
              "      <td>post_PoliticalCompassMemes</td>\n",
              "      <td>476</td>\n",
              "    </tr>\n",
              "    <tr>\n",
              "      <th>238</th>\n",
              "      <td>post_aww</td>\n",
              "      <td>431</td>\n",
              "    </tr>\n",
              "  </tbody>\n",
              "</table>\n",
              "</div>\n",
              "      <button class=\"colab-df-convert\" onclick=\"convertToInteractive('df-2dd3cb56-ea63-4fb8-a237-d7a3447d4b5f')\"\n",
              "              title=\"Convert this dataframe to an interactive table.\"\n",
              "              style=\"display:none;\">\n",
              "        \n",
              "  <svg xmlns=\"http://www.w3.org/2000/svg\" height=\"24px\"viewBox=\"0 0 24 24\"\n",
              "       width=\"24px\">\n",
              "    <path d=\"M0 0h24v24H0V0z\" fill=\"none\"/>\n",
              "    <path d=\"M18.56 5.44l.94 2.06.94-2.06 2.06-.94-2.06-.94-.94-2.06-.94 2.06-2.06.94zm-11 1L8.5 8.5l.94-2.06 2.06-.94-2.06-.94L8.5 2.5l-.94 2.06-2.06.94zm10 10l.94 2.06.94-2.06 2.06-.94-2.06-.94-.94-2.06-.94 2.06-2.06.94z\"/><path d=\"M17.41 7.96l-1.37-1.37c-.4-.4-.92-.59-1.43-.59-.52 0-1.04.2-1.43.59L10.3 9.45l-7.72 7.72c-.78.78-.78 2.05 0 2.83L4 21.41c.39.39.9.59 1.41.59.51 0 1.02-.2 1.41-.59l7.78-7.78 2.81-2.81c.8-.78.8-2.07 0-2.86zM5.41 20L4 18.59l7.72-7.72 1.47 1.35L5.41 20z\"/>\n",
              "  </svg>\n",
              "      </button>\n",
              "      \n",
              "  <style>\n",
              "    .colab-df-container {\n",
              "      display:flex;\n",
              "      flex-wrap:wrap;\n",
              "      gap: 12px;\n",
              "    }\n",
              "\n",
              "    .colab-df-convert {\n",
              "      background-color: #E8F0FE;\n",
              "      border: none;\n",
              "      border-radius: 50%;\n",
              "      cursor: pointer;\n",
              "      display: none;\n",
              "      fill: #1967D2;\n",
              "      height: 32px;\n",
              "      padding: 0 0 0 0;\n",
              "      width: 32px;\n",
              "    }\n",
              "\n",
              "    .colab-df-convert:hover {\n",
              "      background-color: #E2EBFA;\n",
              "      box-shadow: 0px 1px 2px rgba(60, 64, 67, 0.3), 0px 1px 3px 1px rgba(60, 64, 67, 0.15);\n",
              "      fill: #174EA6;\n",
              "    }\n",
              "\n",
              "    [theme=dark] .colab-df-convert {\n",
              "      background-color: #3B4455;\n",
              "      fill: #D2E3FC;\n",
              "    }\n",
              "\n",
              "    [theme=dark] .colab-df-convert:hover {\n",
              "      background-color: #434B5C;\n",
              "      box-shadow: 0px 1px 3px 1px rgba(0, 0, 0, 0.15);\n",
              "      filter: drop-shadow(0px 1px 2px rgba(0, 0, 0, 0.3));\n",
              "      fill: #FFFFFF;\n",
              "    }\n",
              "  </style>\n",
              "\n",
              "      <script>\n",
              "        const buttonEl =\n",
              "          document.querySelector('#df-2dd3cb56-ea63-4fb8-a237-d7a3447d4b5f button.colab-df-convert');\n",
              "        buttonEl.style.display =\n",
              "          google.colab.kernel.accessAllowed ? 'block' : 'none';\n",
              "\n",
              "        async function convertToInteractive(key) {\n",
              "          const element = document.querySelector('#df-2dd3cb56-ea63-4fb8-a237-d7a3447d4b5f');\n",
              "          const dataTable =\n",
              "            await google.colab.kernel.invokeFunction('convertToInteractive',\n",
              "                                                     [key], {});\n",
              "          if (!dataTable) return;\n",
              "\n",
              "          const docLinkHtml = 'Like what you see? Visit the ' +\n",
              "            '<a target=\"_blank\" href=https://colab.research.google.com/notebooks/data_table.ipynb>data table notebook</a>'\n",
              "            + ' to learn more about interactive tables.';\n",
              "          element.innerHTML = '';\n",
              "          dataTable['output_type'] = 'display_data';\n",
              "          await google.colab.output.renderOutput(dataTable, element);\n",
              "          const docLink = document.createElement('div');\n",
              "          docLink.innerHTML = docLinkHtml;\n",
              "          element.appendChild(docLink);\n",
              "        }\n",
              "      </script>\n",
              "    </div>\n",
              "  </div>\n",
              "  "
            ]
          },
          "metadata": {},
          "execution_count": 18
        }
      ]
    },
    {
      "cell_type": "markdown",
      "source": [
        "As you can see, there are some MBTI-related subreddits also. I will choose top 5 non-MBTI-related subreddits which are:\n",
        "1. `'post_AskReddit'`, \n",
        "2. `'post_memes'`, \n",
        "3. `'post_teenagers'`,\n",
        "4. `'post_dankmemes'`, \n",
        "5. `'post_showerthoughts'`"
      ],
      "metadata": {
        "id": "5ubciH17kGsd"
      }
    },
    {
      "cell_type": "markdown",
      "source": [
        "## 2.2 Create a new and clean dataframe"
      ],
      "metadata": {
        "id": "DNHxiOHTv15f"
      }
    },
    {
      "cell_type": "code",
      "source": [
        "non_mbti_post = [\n",
        "    'post_AskReddit', 'post_memes', 'post_teenagers',\n",
        "    'post_dankmemes', 'post_Showerthoughts']"
      ],
      "metadata": {
        "id": "-c0rr7sylVHd"
      },
      "execution_count": null,
      "outputs": []
    },
    {
      "cell_type": "code",
      "source": [
        "def sort_dup(LIST):\n",
        "  # remove duplicate mbti from list\n",
        "  LIST = list(set(LIST)) \n",
        "  # sort mbti ascendingly\n",
        "  LIST.sort()\n",
        "  return LIST"
      ],
      "metadata": {
        "id": "pEjKix881GeF"
      },
      "execution_count": null,
      "outputs": []
    },
    {
      "cell_type": "code",
      "source": [
        "# convert all 3,586 entries of mbti to list\n",
        "mbtis = (mbti_df['mbti_type'].values.tolist()) \n",
        "mbtis = sort_dup(mbtis)\n",
        "print(mbtis)"
      ],
      "metadata": {
        "colab": {
          "base_uri": "https://localhost:8080/"
        },
        "id": "nJB-3OZn1imh",
        "outputId": "40ed7592-bc84-4891-ca21-f3cbbe4f7225"
      },
      "execution_count": null,
      "outputs": [
        {
          "output_type": "stream",
          "name": "stdout",
          "text": [
            "['ENFJ', 'ENFP', 'ENTJ', 'ENTP', 'ESFJ', 'ESFP', 'ESTJ', 'ESTP', 'INFJ', 'INFP', 'INTJ', 'INTP', 'ISFJ', 'ISFP', 'ISTJ', 'ISTP']\n"
          ]
        }
      ]
    },
    {
      "cell_type": "code",
      "source": [
        "def count_from_col(MBTI, INDEX):\n",
        "    return int(mbti_df[mbti_df['mbti_type'].str.contains(MBTI)][[non_mbti_post[INDEX]]].sum(axis=0))"
      ],
      "metadata": {
        "id": "NvP4zKXUlTZl"
      },
      "execution_count": null,
      "outputs": []
    },
    {
      "cell_type": "code",
      "source": [
        "datas = [] #empty list of final data to append to our new TOP5 dataframe\n",
        "for mbti in mbtis:\n",
        "    each_mbti_data=[mbti]\n",
        "    for i in range(5):\n",
        "      count = count_from_col(mbti, i)\n",
        "      each_mbti_data.append(count)\n",
        "    \n",
        "    datas.append(each_mbti_data)"
      ],
      "metadata": {
        "id": "KtWh6AZXuAxn"
      },
      "execution_count": null,
      "outputs": []
    },
    {
      "cell_type": "code",
      "source": [
        "#create new dataframe to work with\n",
        "my_work = pd.DataFrame(datas, columns=['mbti_type']+non_mbti_post) \n",
        "my_work # data is now cleaner than before"
      ],
      "metadata": {
        "colab": {
          "base_uri": "https://localhost:8080/",
          "height": 615
        },
        "id": "Gz9CnLgqvBL7",
        "outputId": "b3dda305-ee8f-4ab8-eeb2-a1d033819895"
      },
      "execution_count": null,
      "outputs": [
        {
          "output_type": "execute_result",
          "data": {
            "text/plain": [
              "   mbti_type  post_AskReddit  post_memes  post_teenagers  post_dankmemes  \\\n",
              "0       ENFJ              39          14              64               3   \n",
              "1       ENFP             298          98              83              67   \n",
              "2       ENTJ             129          88              31              33   \n",
              "3       ENTP             325         410             293             233   \n",
              "4       ESFJ               2           0               0               0   \n",
              "5       ESFP               5           3               1              22   \n",
              "6       ESTJ               3           4               7               3   \n",
              "7       ESTP              36          10              16               8   \n",
              "8       INFJ             311         180             128              77   \n",
              "9       INFP             403         251             211             133   \n",
              "10      INTJ             385         326             138             137   \n",
              "11      INTP             566         739             238             472   \n",
              "12      ISFJ              52           4               6              31   \n",
              "13      ISFP              30           6              16              34   \n",
              "14      ISTJ              20           1               3               4   \n",
              "15      ISTP              53          86             133              33   \n",
              "\n",
              "    post_Showerthoughts  \n",
              "0                     3  \n",
              "1                    47  \n",
              "2                    21  \n",
              "3                   109  \n",
              "4                     2  \n",
              "5                     3  \n",
              "6                     0  \n",
              "7                     7  \n",
              "8                    74  \n",
              "9                   117  \n",
              "10                   89  \n",
              "11                  224  \n",
              "12                    6  \n",
              "13                    5  \n",
              "14                    5  \n",
              "15                   32  "
            ],
            "text/html": [
              "\n",
              "  <div id=\"df-fe5e2361-beaa-47fb-bfac-6fa241402dcf\">\n",
              "    <div class=\"colab-df-container\">\n",
              "      <div>\n",
              "<style scoped>\n",
              "    .dataframe tbody tr th:only-of-type {\n",
              "        vertical-align: middle;\n",
              "    }\n",
              "\n",
              "    .dataframe tbody tr th {\n",
              "        vertical-align: top;\n",
              "    }\n",
              "\n",
              "    .dataframe thead th {\n",
              "        text-align: right;\n",
              "    }\n",
              "</style>\n",
              "<table border=\"1\" class=\"dataframe\">\n",
              "  <thead>\n",
              "    <tr style=\"text-align: right;\">\n",
              "      <th></th>\n",
              "      <th>mbti_type</th>\n",
              "      <th>post_AskReddit</th>\n",
              "      <th>post_memes</th>\n",
              "      <th>post_teenagers</th>\n",
              "      <th>post_dankmemes</th>\n",
              "      <th>post_Showerthoughts</th>\n",
              "    </tr>\n",
              "  </thead>\n",
              "  <tbody>\n",
              "    <tr>\n",
              "      <th>0</th>\n",
              "      <td>ENFJ</td>\n",
              "      <td>39</td>\n",
              "      <td>14</td>\n",
              "      <td>64</td>\n",
              "      <td>3</td>\n",
              "      <td>3</td>\n",
              "    </tr>\n",
              "    <tr>\n",
              "      <th>1</th>\n",
              "      <td>ENFP</td>\n",
              "      <td>298</td>\n",
              "      <td>98</td>\n",
              "      <td>83</td>\n",
              "      <td>67</td>\n",
              "      <td>47</td>\n",
              "    </tr>\n",
              "    <tr>\n",
              "      <th>2</th>\n",
              "      <td>ENTJ</td>\n",
              "      <td>129</td>\n",
              "      <td>88</td>\n",
              "      <td>31</td>\n",
              "      <td>33</td>\n",
              "      <td>21</td>\n",
              "    </tr>\n",
              "    <tr>\n",
              "      <th>3</th>\n",
              "      <td>ENTP</td>\n",
              "      <td>325</td>\n",
              "      <td>410</td>\n",
              "      <td>293</td>\n",
              "      <td>233</td>\n",
              "      <td>109</td>\n",
              "    </tr>\n",
              "    <tr>\n",
              "      <th>4</th>\n",
              "      <td>ESFJ</td>\n",
              "      <td>2</td>\n",
              "      <td>0</td>\n",
              "      <td>0</td>\n",
              "      <td>0</td>\n",
              "      <td>2</td>\n",
              "    </tr>\n",
              "    <tr>\n",
              "      <th>5</th>\n",
              "      <td>ESFP</td>\n",
              "      <td>5</td>\n",
              "      <td>3</td>\n",
              "      <td>1</td>\n",
              "      <td>22</td>\n",
              "      <td>3</td>\n",
              "    </tr>\n",
              "    <tr>\n",
              "      <th>6</th>\n",
              "      <td>ESTJ</td>\n",
              "      <td>3</td>\n",
              "      <td>4</td>\n",
              "      <td>7</td>\n",
              "      <td>3</td>\n",
              "      <td>0</td>\n",
              "    </tr>\n",
              "    <tr>\n",
              "      <th>7</th>\n",
              "      <td>ESTP</td>\n",
              "      <td>36</td>\n",
              "      <td>10</td>\n",
              "      <td>16</td>\n",
              "      <td>8</td>\n",
              "      <td>7</td>\n",
              "    </tr>\n",
              "    <tr>\n",
              "      <th>8</th>\n",
              "      <td>INFJ</td>\n",
              "      <td>311</td>\n",
              "      <td>180</td>\n",
              "      <td>128</td>\n",
              "      <td>77</td>\n",
              "      <td>74</td>\n",
              "    </tr>\n",
              "    <tr>\n",
              "      <th>9</th>\n",
              "      <td>INFP</td>\n",
              "      <td>403</td>\n",
              "      <td>251</td>\n",
              "      <td>211</td>\n",
              "      <td>133</td>\n",
              "      <td>117</td>\n",
              "    </tr>\n",
              "    <tr>\n",
              "      <th>10</th>\n",
              "      <td>INTJ</td>\n",
              "      <td>385</td>\n",
              "      <td>326</td>\n",
              "      <td>138</td>\n",
              "      <td>137</td>\n",
              "      <td>89</td>\n",
              "    </tr>\n",
              "    <tr>\n",
              "      <th>11</th>\n",
              "      <td>INTP</td>\n",
              "      <td>566</td>\n",
              "      <td>739</td>\n",
              "      <td>238</td>\n",
              "      <td>472</td>\n",
              "      <td>224</td>\n",
              "    </tr>\n",
              "    <tr>\n",
              "      <th>12</th>\n",
              "      <td>ISFJ</td>\n",
              "      <td>52</td>\n",
              "      <td>4</td>\n",
              "      <td>6</td>\n",
              "      <td>31</td>\n",
              "      <td>6</td>\n",
              "    </tr>\n",
              "    <tr>\n",
              "      <th>13</th>\n",
              "      <td>ISFP</td>\n",
              "      <td>30</td>\n",
              "      <td>6</td>\n",
              "      <td>16</td>\n",
              "      <td>34</td>\n",
              "      <td>5</td>\n",
              "    </tr>\n",
              "    <tr>\n",
              "      <th>14</th>\n",
              "      <td>ISTJ</td>\n",
              "      <td>20</td>\n",
              "      <td>1</td>\n",
              "      <td>3</td>\n",
              "      <td>4</td>\n",
              "      <td>5</td>\n",
              "    </tr>\n",
              "    <tr>\n",
              "      <th>15</th>\n",
              "      <td>ISTP</td>\n",
              "      <td>53</td>\n",
              "      <td>86</td>\n",
              "      <td>133</td>\n",
              "      <td>33</td>\n",
              "      <td>32</td>\n",
              "    </tr>\n",
              "  </tbody>\n",
              "</table>\n",
              "</div>\n",
              "      <button class=\"colab-df-convert\" onclick=\"convertToInteractive('df-fe5e2361-beaa-47fb-bfac-6fa241402dcf')\"\n",
              "              title=\"Convert this dataframe to an interactive table.\"\n",
              "              style=\"display:none;\">\n",
              "        \n",
              "  <svg xmlns=\"http://www.w3.org/2000/svg\" height=\"24px\"viewBox=\"0 0 24 24\"\n",
              "       width=\"24px\">\n",
              "    <path d=\"M0 0h24v24H0V0z\" fill=\"none\"/>\n",
              "    <path d=\"M18.56 5.44l.94 2.06.94-2.06 2.06-.94-2.06-.94-.94-2.06-.94 2.06-2.06.94zm-11 1L8.5 8.5l.94-2.06 2.06-.94-2.06-.94L8.5 2.5l-.94 2.06-2.06.94zm10 10l.94 2.06.94-2.06 2.06-.94-2.06-.94-.94-2.06-.94 2.06-2.06.94z\"/><path d=\"M17.41 7.96l-1.37-1.37c-.4-.4-.92-.59-1.43-.59-.52 0-1.04.2-1.43.59L10.3 9.45l-7.72 7.72c-.78.78-.78 2.05 0 2.83L4 21.41c.39.39.9.59 1.41.59.51 0 1.02-.2 1.41-.59l7.78-7.78 2.81-2.81c.8-.78.8-2.07 0-2.86zM5.41 20L4 18.59l7.72-7.72 1.47 1.35L5.41 20z\"/>\n",
              "  </svg>\n",
              "      </button>\n",
              "      \n",
              "  <style>\n",
              "    .colab-df-container {\n",
              "      display:flex;\n",
              "      flex-wrap:wrap;\n",
              "      gap: 12px;\n",
              "    }\n",
              "\n",
              "    .colab-df-convert {\n",
              "      background-color: #E8F0FE;\n",
              "      border: none;\n",
              "      border-radius: 50%;\n",
              "      cursor: pointer;\n",
              "      display: none;\n",
              "      fill: #1967D2;\n",
              "      height: 32px;\n",
              "      padding: 0 0 0 0;\n",
              "      width: 32px;\n",
              "    }\n",
              "\n",
              "    .colab-df-convert:hover {\n",
              "      background-color: #E2EBFA;\n",
              "      box-shadow: 0px 1px 2px rgba(60, 64, 67, 0.3), 0px 1px 3px 1px rgba(60, 64, 67, 0.15);\n",
              "      fill: #174EA6;\n",
              "    }\n",
              "\n",
              "    [theme=dark] .colab-df-convert {\n",
              "      background-color: #3B4455;\n",
              "      fill: #D2E3FC;\n",
              "    }\n",
              "\n",
              "    [theme=dark] .colab-df-convert:hover {\n",
              "      background-color: #434B5C;\n",
              "      box-shadow: 0px 1px 3px 1px rgba(0, 0, 0, 0.15);\n",
              "      filter: drop-shadow(0px 1px 2px rgba(0, 0, 0, 0.3));\n",
              "      fill: #FFFFFF;\n",
              "    }\n",
              "  </style>\n",
              "\n",
              "      <script>\n",
              "        const buttonEl =\n",
              "          document.querySelector('#df-fe5e2361-beaa-47fb-bfac-6fa241402dcf button.colab-df-convert');\n",
              "        buttonEl.style.display =\n",
              "          google.colab.kernel.accessAllowed ? 'block' : 'none';\n",
              "\n",
              "        async function convertToInteractive(key) {\n",
              "          const element = document.querySelector('#df-fe5e2361-beaa-47fb-bfac-6fa241402dcf');\n",
              "          const dataTable =\n",
              "            await google.colab.kernel.invokeFunction('convertToInteractive',\n",
              "                                                     [key], {});\n",
              "          if (!dataTable) return;\n",
              "\n",
              "          const docLinkHtml = 'Like what you see? Visit the ' +\n",
              "            '<a target=\"_blank\" href=https://colab.research.google.com/notebooks/data_table.ipynb>data table notebook</a>'\n",
              "            + ' to learn more about interactive tables.';\n",
              "          element.innerHTML = '';\n",
              "          dataTable['output_type'] = 'display_data';\n",
              "          await google.colab.output.renderOutput(dataTable, element);\n",
              "          const docLink = document.createElement('div');\n",
              "          docLink.innerHTML = docLinkHtml;\n",
              "          element.appendChild(docLink);\n",
              "        }\n",
              "      </script>\n",
              "    </div>\n",
              "  </div>\n",
              "  "
            ]
          },
          "metadata": {},
          "execution_count": 24
        }
      ]
    },
    {
      "cell_type": "markdown",
      "source": [
        "# 3. Data Visualisation"
      ],
      "metadata": {
        "id": "ok1Iody0wbpz"
      }
    },
    {
      "cell_type": "code",
      "source": [
        "import numpy as np"
      ],
      "metadata": {
        "id": "cca1V7Vcwgj8"
      },
      "execution_count": null,
      "outputs": []
    },
    {
      "cell_type": "code",
      "source": [
        "extroverts_df = my_work[np.char.find(my_work['mbti_type'].values.astype(str), 'E') > -1]\n",
        "introverts_df = my_work[np.char.find(my_work['mbti_type'].values.astype(str), 'I') > -1]\n",
        "\n",
        "# extroverts_df is the dataframe that only contain Exxx in the mbti_type column \n",
        "# introverts_df is the dataframe that only contain Ixxx in the mbti_type column "
      ],
      "metadata": {
        "id": "eKAJf0TmwkXA"
      },
      "execution_count": null,
      "outputs": []
    },
    {
      "cell_type": "code",
      "source": [
        "# create a new mbti label from recycling the existing list of MBTIs\n",
        "xMBTIs = []\n",
        "for mbti in mbtis:\n",
        "  # replace the first letter of each mbti with 'x'\n",
        "  xmbti = mbti.replace(mbti[0],'x') \n",
        "  xMBTIs.append(xmbti)\n",
        "\n",
        "xMBTIs = sort_dup(xMBTIs)\n",
        "print(xMBTIs)"
      ],
      "metadata": {
        "colab": {
          "base_uri": "https://localhost:8080/"
        },
        "id": "WtqifI6wwuuI",
        "outputId": "471cfdcc-c39e-41b7-fdd6-b0020d5a859e"
      },
      "execution_count": null,
      "outputs": [
        {
          "output_type": "stream",
          "name": "stdout",
          "text": [
            "['xNFJ', 'xNFP', 'xNTJ', 'xNTP', 'xSFJ', 'xSFP', 'xSTJ', 'xSTP']\n"
          ]
        }
      ]
    },
    {
      "cell_type": "code",
      "source": [
        "import matplotlib.pyplot as plt\n",
        "%matplotlib inline"
      ],
      "metadata": {
        "id": "8Da3XSnZx0M1"
      },
      "execution_count": null,
      "outputs": []
    },
    {
      "cell_type": "code",
      "source": [
        "def visualise(COLUMN_NAME, GRID = True, Y_MAX_LIMIT=None, COLOR_SET = ['steelblue','salmon'], SAVE=False): \n",
        "  In = introverts_df[COLUMN_NAME]\n",
        "  Ex = extroverts_df[COLUMN_NAME]\n",
        "  y = xMBTIs\n",
        "  plt.figure(figsize=[11,6])\n",
        "  # assign x and y values to plot, and also set the colour\n",
        "  plt.bar(y, In, color=COLOR_SET[0],zorder=3) \n",
        "  plt.bar(y ,Ex, bottom=In, color=COLOR_SET[1],zorder=3)\n",
        "  if GRID is True:\n",
        "    plt.grid(zorder=0) \n",
        "    # grid's zorder > bar, otherwise the grid will visibly overlap the bargraph\n",
        "  if Y_MAX_LIMIT is not None:\n",
        "    plt.ylim([0, Y_MAX_LIMIT]) # in case you want to stretch the y-axis\n",
        "  plt.legend(labels=['Introvert', 'Extrovert'])\n",
        "  plt.xlabel(\"MBTI Personality Type\", labelpad=10)\n",
        "  plt.ylabel(\"Frequency of Posting\", labelpad=10) \n",
        "  #labelpad = distance between xlabel or ylabel and the bar graph\n",
        "  plt.title(f\"Frequency of MBTI who posts in '{COLUMN_NAME.split('_')[1]}'\", y=1.03) \n",
        "  #resusing the column name but get rid of the 'post_'\n",
        "  if SAVE is True:\n",
        "    plt.savefig(f\"{COLUMN_NAME}.png\")"
      ],
      "metadata": {
        "id": "hiwOVKFzxpsS"
      },
      "execution_count": null,
      "outputs": []
    },
    {
      "cell_type": "code",
      "source": [
        "visualise(non_mbti_post[0],Y_MAX_LIMIT = 1200)"
      ],
      "metadata": {
        "colab": {
          "base_uri": "https://localhost:8080/",
          "height": 420
        },
        "id": "tYOqQPw7yJCo",
        "outputId": "f7bd83d1-be1a-429c-9a63-5a403c6ae9c2"
      },
      "execution_count": null,
      "outputs": [
        {
          "output_type": "display_data",
          "data": {
            "text/plain": [
              "<Figure size 792x432 with 1 Axes>"
            ],
            "image/png": "[encoded data removed]"
          },
          "metadata": {
            "needs_background": "light"
          }
        }
      ]
    },
    {
      "cell_type": "code",
      "source": [
        "visualise(non_mbti_post[1],Y_MAX_LIMIT = 1200)"
      ],
      "metadata": {
        "colab": {
          "base_uri": "https://localhost:8080/",
          "height": 420
        },
        "id": "r-0iPlt04UV3",
        "outputId": "c9150881-64b2-494e-8f56-d41725b89fc6"
      },
      "execution_count": null,
      "outputs": [
        {
          "output_type": "display_data",
          "data": {
            "text/plain": [
              "<Figure size 792x432 with 1 Axes>"
            ],
            "image/png": "[encoded data removed]"
          },
          "metadata": {
            "needs_background": "light"
          }
        }
      ]
    },
    {
      "cell_type": "code",
      "source": [
        "visualise(non_mbti_post[2],Y_MAX_LIMIT = 700)"
      ],
      "metadata": {
        "colab": {
          "base_uri": "https://localhost:8080/",
          "height": 420
        },
        "id": "6XX-z0ti4Wjx",
        "outputId": "02083025-d5ff-4a74-d8bf-dbde23ab449a"
      },
      "execution_count": null,
      "outputs": [
        {
          "output_type": "display_data",
          "data": {
            "text/plain": [
              "<Figure size 792x432 with 1 Axes>"
            ],
            "image/png": "[encoded data removed]"
          },
          "metadata": {
            "needs_background": "light"
          }
        }
      ]
    },
    {
      "cell_type": "code",
      "source": [
        "visualise(non_mbti_post[3])"
      ],
      "metadata": {
        "colab": {
          "base_uri": "https://localhost:8080/",
          "height": 420
        },
        "id": "iFKpQXRk4g75",
        "outputId": "a5eb23e1-7339-4109-859b-581273be71ea"
      },
      "execution_count": null,
      "outputs": [
        {
          "output_type": "display_data",
          "data": {
            "text/plain": [
              "<Figure size 792x432 with 1 Axes>"
            ],
            "image/png": "[encoded data removed]"
          },
          "metadata": {
            "needs_background": "light"
          }
        }
      ]
    },
    {
      "cell_type": "code",
      "source": [
        "visualise(non_mbti_post[4])"
      ],
      "metadata": {
        "colab": {
          "base_uri": "https://localhost:8080/",
          "height": 420
        },
        "id": "h45LG97s4l1A",
        "outputId": "f4e9accf-f733-4d72-d9f7-67695e45c253"
      },
      "execution_count": null,
      "outputs": [
        {
          "output_type": "display_data",
          "data": {
            "text/plain": [
              "<Figure size 792x432 with 1 Axes>"
            ],
            "image/png": "[encoded data removed]"
          },
          "metadata": {
            "needs_background": "light"
          }
        }
      ]
    },
    {
      "cell_type": "markdown",
      "source": [],
      "metadata": {
        "id": "jeRlEy0VJaHW"
      }
    },
    {
      "cell_type": "code",
      "source": [
        "# create dataframe of all \n",
        "sum_all_post()\n",
        "plot()\n",
        "\n",
        "sum_all_comment()\n",
        "plot()"
      ],
      "metadata": {
        "id": "SYCYlp_vJa4v"
      },
      "execution_count": null,
      "outputs": []
    },
    {
      "cell_type": "markdown",
      "source": [
        "**References**\n",
        "\n",
        "5 Python Tips that Absolute Beginners Should Know - Thanawat Piyasawetkul - Medium\n",
        "https://medium.com/@thanawat.pi/5-python-tricks-that-absolute-beginners-should-know-1aa0244ce320\n",
        "\n",
        "How to Convert Pandas DataFrame into a List – Data to Fish\n",
        "https://datatofish.com/convert-pandas-dataframe-to-list/\n",
        "\n",
        "pandas.DataFrame.groupby — pandas 1.5.2 documentation\n",
        "https://pandas.pydata.org/pandas-docs/stable/reference/api/pandas.DataFrame.groupby.html\n",
        "\n",
        "3 Ways to Select One or More Columns with Pandas - Python and R Tips\n",
        "https://cmdlinetips.com/2020/04/3-ways-to-select-one-or-more-columns-with-pandas/\n",
        "\n",
        "Pandas: Select first column of dataframe in python – thisPointer\n",
        "https://thispointer.com/pandas-select-first-column-of-dataframe-in-python/\n",
        "\n",
        "Pandas DataFrame sum() Method\n",
        "https://www.w3schools.com/python/pandas/ref_df_sum.asp#:~:text=The%20sum()%20method%20adds,the%20sum%20of%20each%20row.\n",
        "\n",
        "Python String replace() Method\n",
        "https://www.w3schools.com/python/ref_string_replace.asp"
      ],
      "metadata": {
        "id": "7tW-gkc22hho"
      }
    },
    {
      "cell_type": "code",
      "source": [
        "%%shell\n",
        "jupyter nbconvert --to html /content/mbti_bargraph.ipynb"
      ],
      "metadata": {
        "colab": {
          "base_uri": "https://localhost:8080/"
        },
        "id": "kL3o_ga2yoRu",
        "outputId": "b416cebb-6ba2-4c62-ac2a-1d33bb20de6a"
      },
      "execution_count": null,
      "outputs": [
        {
          "output_type": "stream",
          "name": "stdout",
          "text": [
            "[NbConvertApp] Converting notebook /content/mbti_bargraph.ipynb to html\n",
            "[NbConvertApp] Writing 412603 bytes to /content/mbti_bargraph.html\n"
          ]
        },
        {
          "output_type": "execute_result",
          "data": {
            "text/plain": []
          },
          "metadata": {},
          "execution_count": 75
        }
      ]
    }
  ]
}